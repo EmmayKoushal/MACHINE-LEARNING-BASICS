{
 "cells": [
  {
   "cell_type": "markdown",
   "id": "559ce70a",
   "metadata": {},
   "source": [
    "# Import required libraries"
   ]
  },
  {
   "cell_type": "code",
   "execution_count": 1,
   "id": "fc826300",
   "metadata": {},
   "outputs": [],
   "source": [
    "import pandas\n",
    "import numpy"
   ]
  },
  {
   "cell_type": "markdown",
   "id": "627e3f4f",
   "metadata": {},
   "source": [
    "# Read Data"
   ]
  },
  {
   "cell_type": "code",
   "execution_count": 2,
   "id": "ea206e73",
   "metadata": {},
   "outputs": [
    {
     "data": {
      "text/html": [
       "<div>\n",
       "<style scoped>\n",
       "    .dataframe tbody tr th:only-of-type {\n",
       "        vertical-align: middle;\n",
       "    }\n",
       "\n",
       "    .dataframe tbody tr th {\n",
       "        vertical-align: top;\n",
       "    }\n",
       "\n",
       "    .dataframe thead th {\n",
       "        text-align: right;\n",
       "    }\n",
       "</style>\n",
       "<table border=\"1\" class=\"dataframe\">\n",
       "  <thead>\n",
       "    <tr style=\"text-align: right;\">\n",
       "      <th></th>\n",
       "      <th>Gender</th>\n",
       "      <th>Married</th>\n",
       "      <th>Dependents</th>\n",
       "      <th>Self_Employed</th>\n",
       "      <th>ApplicantIncome</th>\n",
       "      <th>CoapplicantIncome</th>\n",
       "      <th>LoanAmount</th>\n",
       "      <th>Loan_Amount_Term</th>\n",
       "      <th>Property_Area</th>\n",
       "      <th>Loan_Status</th>\n",
       "    </tr>\n",
       "  </thead>\n",
       "  <tbody>\n",
       "    <tr>\n",
       "      <th>0</th>\n",
       "      <td>1</td>\n",
       "      <td>1</td>\n",
       "      <td>0</td>\n",
       "      <td>0</td>\n",
       "      <td>2333</td>\n",
       "      <td>1516.0</td>\n",
       "      <td>95</td>\n",
       "      <td>360</td>\n",
       "      <td>2</td>\n",
       "      <td>1</td>\n",
       "    </tr>\n",
       "    <tr>\n",
       "      <th>1</th>\n",
       "      <td>1</td>\n",
       "      <td>1</td>\n",
       "      <td>3</td>\n",
       "      <td>0</td>\n",
       "      <td>3036</td>\n",
       "      <td>2504.0</td>\n",
       "      <td>158</td>\n",
       "      <td>360</td>\n",
       "      <td>0</td>\n",
       "      <td>0</td>\n",
       "    </tr>\n",
       "    <tr>\n",
       "      <th>2</th>\n",
       "      <td>1</td>\n",
       "      <td>1</td>\n",
       "      <td>2</td>\n",
       "      <td>0</td>\n",
       "      <td>3073</td>\n",
       "      <td>8106.0</td>\n",
       "      <td>200</td>\n",
       "      <td>360</td>\n",
       "      <td>2</td>\n",
       "      <td>1</td>\n",
       "    </tr>\n",
       "    <tr>\n",
       "      <th>3</th>\n",
       "      <td>1</td>\n",
       "      <td>1</td>\n",
       "      <td>0</td>\n",
       "      <td>1</td>\n",
       "      <td>2600</td>\n",
       "      <td>3500.0</td>\n",
       "      <td>115</td>\n",
       "      <td>0</td>\n",
       "      <td>2</td>\n",
       "      <td>1</td>\n",
       "    </tr>\n",
       "    <tr>\n",
       "      <th>4</th>\n",
       "      <td>1</td>\n",
       "      <td>1</td>\n",
       "      <td>1</td>\n",
       "      <td>0</td>\n",
       "      <td>5955</td>\n",
       "      <td>5625.0</td>\n",
       "      <td>315</td>\n",
       "      <td>360</td>\n",
       "      <td>2</td>\n",
       "      <td>1</td>\n",
       "    </tr>\n",
       "  </tbody>\n",
       "</table>\n",
       "</div>"
      ],
      "text/plain": [
       "   Gender  Married  Dependents  Self_Employed  ApplicantIncome  \\\n",
       "0       1        1           0              0             2333   \n",
       "1       1        1           3              0             3036   \n",
       "2       1        1           2              0             3073   \n",
       "3       1        1           0              1             2600   \n",
       "4       1        1           1              0             5955   \n",
       "\n",
       "   CoapplicantIncome  LoanAmount  Loan_Amount_Term  Property_Area  Loan_Status  \n",
       "0             1516.0          95               360              2            1  \n",
       "1             2504.0         158               360              0            0  \n",
       "2             8106.0         200               360              2            1  \n",
       "3             3500.0         115                 0              2            1  \n",
       "4             5625.0         315               360              2            1  "
      ]
     },
     "execution_count": 2,
     "metadata": {},
     "output_type": "execute_result"
    }
   ],
   "source": [
    "data = pandas.read_csv('Loan.csv')\n",
    "data.head()"
   ]
  },
  {
   "cell_type": "markdown",
   "id": "a7965cd5",
   "metadata": {},
   "source": [
    "# Dividing the data into dependent and independent variables"
   ]
  },
  {
   "cell_type": "code",
   "execution_count": 3,
   "id": "0d2b96ff",
   "metadata": {},
   "outputs": [],
   "source": [
    "Y = data.Loan_Status\n",
    "X = data.drop(columns = ['Loan_Status'])"
   ]
  },
  {
   "cell_type": "markdown",
   "id": "1e259854",
   "metadata": {},
   "source": [
    "# Splitting data into training set and testing set"
   ]
  },
  {
   "cell_type": "code",
   "execution_count": 11,
   "id": "d87a27fb",
   "metadata": {},
   "outputs": [
    {
     "data": {
      "text/plain": [
       "((141, 9), (36, 9), (141,), (36,))"
      ]
     },
     "execution_count": 11,
     "metadata": {},
     "output_type": "execute_result"
    }
   ],
   "source": [
    "from sklearn.model_selection import train_test_split\n",
    "\n",
    "X_train, X_test, y_train, y_test = train_test_split(X, Y, test_size = 0.2)\n",
    "X_train.shape, X_test.shape, y_train.shape, y_test.shape"
   ]
  },
  {
   "cell_type": "markdown",
   "id": "0185fe90",
   "metadata": {},
   "source": [
    "# Standardize of a dataset\n",
    "\n",
    "https://scikit-learn.org/stable/modules/generated/sklearn.preprocessing.StandardScaler.html"
   ]
  },
  {
   "cell_type": "code",
   "execution_count": 12,
   "id": "65c6ab5d",
   "metadata": {},
   "outputs": [
    {
     "data": {
      "text/plain": [
       "array([[ 0.5636994 ,  0.77606232,  1.29840563, ..., -0.2051452 ,\n",
       "         0.28824019,  1.17564133],\n",
       "       [-1.77399516,  0.77606232, -0.75861902, ..., -0.08153207,\n",
       "         0.28824019, -1.11077836],\n",
       "       [-1.77399516, -1.28855631, -0.75861902, ..., -0.2146539 ,\n",
       "         0.28824019,  1.17564133],\n",
       "       ...,\n",
       "       [ 0.5636994 , -1.28855631, -0.75861902, ..., -0.32875833,\n",
       "         1.8513889 ,  1.17564133],\n",
       "       [ 0.5636994 ,  0.77606232, -0.75861902, ..., -0.15760169,\n",
       "         0.28824019, -1.11077836],\n",
       "       [ 0.5636994 ,  0.77606232, -0.75861902, ...,  1.67757789,\n",
       "         0.28824019,  1.17564133]])"
      ]
     },
     "execution_count": 12,
     "metadata": {},
     "output_type": "execute_result"
    }
   ],
   "source": [
    "from sklearn.preprocessing import StandardScaler\n",
    "SS = StandardScaler()\n",
    "X_train = SS.fit_transform(X_train)\n",
    "X_test = SS.fit_transform(X_test)\n",
    "X_train"
   ]
  },
  {
   "cell_type": "markdown",
   "id": "8224db73",
   "metadata": {},
   "source": [
    "# Import GaussianNB from sklearn library and fit into it"
   ]
  },
  {
   "cell_type": "code",
   "execution_count": 13,
   "id": "20bf4fc4",
   "metadata": {},
   "outputs": [],
   "source": [
    "from sklearn.naive_bayes import GaussianNB\n",
    "\n",
    "model = GaussianNB()"
   ]
  },
  {
   "cell_type": "code",
   "execution_count": 14,
   "id": "210d5d79",
   "metadata": {},
   "outputs": [
    {
     "data": {
      "text/plain": [
       "GaussianNB()"
      ]
     },
     "execution_count": 14,
     "metadata": {},
     "output_type": "execute_result"
    }
   ],
   "source": [
    "model.fit(X_train, y_train)"
   ]
  },
  {
   "cell_type": "markdown",
   "id": "a5f6c111",
   "metadata": {},
   "source": [
    "# Predict the outcomes of testing data"
   ]
  },
  {
   "cell_type": "code",
   "execution_count": 15,
   "id": "d372239c",
   "metadata": {},
   "outputs": [],
   "source": [
    "y_pred = model.predict(X_test)"
   ]
  },
  {
   "cell_type": "code",
   "execution_count": 16,
   "id": "815b0b2d",
   "metadata": {},
   "outputs": [
    {
     "data": {
      "text/plain": [
       "array([1, 1, 1, 1, 1, 1, 0, 1, 0, 1, 0, 1, 1, 1, 1, 1, 1, 1, 1, 1, 1, 1,\n",
       "       1, 1, 1, 1, 1, 1, 1, 1, 1, 0, 1, 1, 1, 1])"
      ]
     },
     "execution_count": 16,
     "metadata": {},
     "output_type": "execute_result"
    }
   ],
   "source": [
    "y_pred"
   ]
  },
  {
   "cell_type": "markdown",
   "id": "518bb1c9",
   "metadata": {},
   "source": [
    "# Printing metrics of the model"
   ]
  },
  {
   "cell_type": "code",
   "execution_count": 17,
   "id": "ae7a08e7",
   "metadata": {},
   "outputs": [
    {
     "data": {
      "text/plain": [
       "(0.7777777777777778,\n",
       " array([[ 2,  6],\n",
       "        [ 2, 26]]))"
      ]
     },
     "execution_count": 17,
     "metadata": {},
     "output_type": "execute_result"
    }
   ],
   "source": [
    "from sklearn.metrics import accuracy_score, confusion_matrix\n",
    "\n",
    "acc = accuracy_score(y_test, y_pred)\n",
    "cm = confusion_matrix(y_test, y_pred)\n",
    "acc, cm"
   ]
  },
  {
   "cell_type": "code",
   "execution_count": null,
   "id": "c1394223",
   "metadata": {},
   "outputs": [],
   "source": []
  }
 ],
 "metadata": {
  "kernelspec": {
   "display_name": "Python 3 (ipykernel)",
   "language": "python",
   "name": "python3"
  },
  "language_info": {
   "codemirror_mode": {
    "name": "ipython",
    "version": 3
   },
   "file_extension": ".py",
   "mimetype": "text/x-python",
   "name": "python",
   "nbconvert_exporter": "python",
   "pygments_lexer": "ipython3",
   "version": "3.9.7"
  }
 },
 "nbformat": 4,
 "nbformat_minor": 5
}
